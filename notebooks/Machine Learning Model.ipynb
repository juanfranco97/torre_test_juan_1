{
 "cells": [
  {
   "cell_type": "markdown",
   "metadata": {},
   "source": [
    "# Machine Learning Regression Model\n",
    "## By Juan Manuel Franco Islas"
   ]
  },
  {
   "cell_type": "markdown",
   "metadata": {},
   "source": [
    "## Import libraries"
   ]
  },
  {
   "cell_type": "code",
   "execution_count": 49,
   "metadata": {},
   "outputs": [],
   "source": [
    "import pandas as pd \n",
    "import numpy as np\n",
    "import matplotlib.pyplot as plt\n",
    "from sklearn.feature_selection import SelectKBest\n",
    "from sklearn.feature_selection import mutual_info_regression\n",
    "from sklearn.linear_model import Lasso\n",
    "from sklearn.model_selection import train_test_split\n",
    "from sklearn.model_selection import cross_validate\n",
    "from sklearn.ensemble import RandomForestRegressor\n",
    "from sklearn.ensemble import GradientBoostingRegressor\n",
    "from sklearn.linear_model import LinearRegression\n",
    "from sklearn.linear_model import ElasticNetCV\n",
    "from sklearn.ensemble import VotingRegressor\n",
    "import seaborn as sns\n",
    "%matplotlib inline"
   ]
  },
  {
   "cell_type": "code",
   "execution_count": 3,
   "metadata": {},
   "outputs": [],
   "source": [
    "df_main = pd.read_csv('../../to_model.csv')"
   ]
  },
  {
   "cell_type": "code",
   "execution_count": 5,
   "metadata": {},
   "outputs": [],
   "source": [
    "df_main.drop(['job_offer_id'], axis=1, inplace=True)"
   ]
  },
  {
   "cell_type": "code",
   "execution_count": 6,
   "metadata": {},
   "outputs": [
    {
     "data": {
      "text/html": [
       "<div>\n",
       "<style scoped>\n",
       "    .dataframe tbody tr th:only-of-type {\n",
       "        vertical-align: middle;\n",
       "    }\n",
       "\n",
       "    .dataframe tbody tr th {\n",
       "        vertical-align: top;\n",
       "    }\n",
       "\n",
       "    .dataframe thead th {\n",
       "        text-align: right;\n",
       "    }\n",
       "</style>\n",
       "<table border=\"1\" class=\"dataframe\">\n",
       "  <thead>\n",
       "    <tr style=\"text-align: right;\">\n",
       "      <th></th>\n",
       "      <th>salary</th>\n",
       "      <th>category_accountancy qualified jobs</th>\n",
       "      <th>category_admin secretarial pa jobs</th>\n",
       "      <th>category_apprenticeships jobs</th>\n",
       "      <th>category_banking jobs</th>\n",
       "      <th>category_catering jobs</th>\n",
       "      <th>category_charity jobs</th>\n",
       "      <th>category_construction property jobs</th>\n",
       "      <th>category_customer service jobs</th>\n",
       "      <th>category_education jobs</th>\n",
       "      <th>...</th>\n",
       "      <th>category_strategy consultancy jobs</th>\n",
       "      <th>category_training jobs</th>\n",
       "      <th>job_type_Contract, full-time or part-time</th>\n",
       "      <th>job_type_Contract, part-time</th>\n",
       "      <th>job_type_Permanent, full-time</th>\n",
       "      <th>job_type_Permanent, full-time or part-time</th>\n",
       "      <th>job_type_Permanent, part-time</th>\n",
       "      <th>job_type_Temporary, full-time</th>\n",
       "      <th>job_type_Temporary, full-time or part-time</th>\n",
       "      <th>job_type_Temporary, part-time</th>\n",
       "    </tr>\n",
       "  </thead>\n",
       "  <tbody>\n",
       "    <tr>\n",
       "      <th>0</th>\n",
       "      <td>18323.0</td>\n",
       "      <td>0.0</td>\n",
       "      <td>0.0</td>\n",
       "      <td>0.0</td>\n",
       "      <td>0.0</td>\n",
       "      <td>1.0</td>\n",
       "      <td>0.0</td>\n",
       "      <td>0.0</td>\n",
       "      <td>0.0</td>\n",
       "      <td>0.0</td>\n",
       "      <td>...</td>\n",
       "      <td>0.0</td>\n",
       "      <td>0.0</td>\n",
       "      <td>0.0</td>\n",
       "      <td>0.0</td>\n",
       "      <td>1.0</td>\n",
       "      <td>0.0</td>\n",
       "      <td>0.0</td>\n",
       "      <td>0.0</td>\n",
       "      <td>0.0</td>\n",
       "      <td>0.0</td>\n",
       "    </tr>\n",
       "    <tr>\n",
       "      <th>1</th>\n",
       "      <td>20000.0</td>\n",
       "      <td>0.0</td>\n",
       "      <td>0.0</td>\n",
       "      <td>0.0</td>\n",
       "      <td>0.0</td>\n",
       "      <td>0.0</td>\n",
       "      <td>0.0</td>\n",
       "      <td>0.0</td>\n",
       "      <td>0.0</td>\n",
       "      <td>0.0</td>\n",
       "      <td>...</td>\n",
       "      <td>0.0</td>\n",
       "      <td>0.0</td>\n",
       "      <td>0.0</td>\n",
       "      <td>0.0</td>\n",
       "      <td>1.0</td>\n",
       "      <td>0.0</td>\n",
       "      <td>0.0</td>\n",
       "      <td>0.0</td>\n",
       "      <td>0.0</td>\n",
       "      <td>0.0</td>\n",
       "    </tr>\n",
       "    <tr>\n",
       "      <th>2</th>\n",
       "      <td>16000.0</td>\n",
       "      <td>0.0</td>\n",
       "      <td>0.0</td>\n",
       "      <td>0.0</td>\n",
       "      <td>0.0</td>\n",
       "      <td>0.0</td>\n",
       "      <td>0.0</td>\n",
       "      <td>0.0</td>\n",
       "      <td>0.0</td>\n",
       "      <td>0.0</td>\n",
       "      <td>...</td>\n",
       "      <td>0.0</td>\n",
       "      <td>0.0</td>\n",
       "      <td>0.0</td>\n",
       "      <td>0.0</td>\n",
       "      <td>0.0</td>\n",
       "      <td>1.0</td>\n",
       "      <td>0.0</td>\n",
       "      <td>0.0</td>\n",
       "      <td>0.0</td>\n",
       "      <td>0.0</td>\n",
       "    </tr>\n",
       "    <tr>\n",
       "      <th>3</th>\n",
       "      <td>41000.0</td>\n",
       "      <td>0.0</td>\n",
       "      <td>0.0</td>\n",
       "      <td>0.0</td>\n",
       "      <td>0.0</td>\n",
       "      <td>0.0</td>\n",
       "      <td>0.0</td>\n",
       "      <td>0.0</td>\n",
       "      <td>0.0</td>\n",
       "      <td>0.0</td>\n",
       "      <td>...</td>\n",
       "      <td>0.0</td>\n",
       "      <td>0.0</td>\n",
       "      <td>0.0</td>\n",
       "      <td>0.0</td>\n",
       "      <td>1.0</td>\n",
       "      <td>0.0</td>\n",
       "      <td>0.0</td>\n",
       "      <td>0.0</td>\n",
       "      <td>0.0</td>\n",
       "      <td>0.0</td>\n",
       "    </tr>\n",
       "    <tr>\n",
       "      <th>4</th>\n",
       "      <td>9126.0</td>\n",
       "      <td>0.0</td>\n",
       "      <td>0.0</td>\n",
       "      <td>0.0</td>\n",
       "      <td>0.0</td>\n",
       "      <td>0.0</td>\n",
       "      <td>0.0</td>\n",
       "      <td>0.0</td>\n",
       "      <td>0.0</td>\n",
       "      <td>0.0</td>\n",
       "      <td>...</td>\n",
       "      <td>0.0</td>\n",
       "      <td>0.0</td>\n",
       "      <td>0.0</td>\n",
       "      <td>0.0</td>\n",
       "      <td>0.0</td>\n",
       "      <td>0.0</td>\n",
       "      <td>1.0</td>\n",
       "      <td>0.0</td>\n",
       "      <td>0.0</td>\n",
       "      <td>0.0</td>\n",
       "    </tr>\n",
       "  </tbody>\n",
       "</table>\n",
       "<p>5 rows × 45 columns</p>\n",
       "</div>"
      ],
      "text/plain": [
       "    salary  category_accountancy qualified jobs  \\\n",
       "0  18323.0                                  0.0   \n",
       "1  20000.0                                  0.0   \n",
       "2  16000.0                                  0.0   \n",
       "3  41000.0                                  0.0   \n",
       "4   9126.0                                  0.0   \n",
       "\n",
       "   category_admin secretarial pa jobs  category_apprenticeships jobs  \\\n",
       "0                                 0.0                            0.0   \n",
       "1                                 0.0                            0.0   \n",
       "2                                 0.0                            0.0   \n",
       "3                                 0.0                            0.0   \n",
       "4                                 0.0                            0.0   \n",
       "\n",
       "   category_banking jobs  category_catering jobs  category_charity jobs  \\\n",
       "0                    0.0                     1.0                    0.0   \n",
       "1                    0.0                     0.0                    0.0   \n",
       "2                    0.0                     0.0                    0.0   \n",
       "3                    0.0                     0.0                    0.0   \n",
       "4                    0.0                     0.0                    0.0   \n",
       "\n",
       "   category_construction property jobs  category_customer service jobs  \\\n",
       "0                                  0.0                             0.0   \n",
       "1                                  0.0                             0.0   \n",
       "2                                  0.0                             0.0   \n",
       "3                                  0.0                             0.0   \n",
       "4                                  0.0                             0.0   \n",
       "\n",
       "   category_education jobs  ...  category_strategy consultancy jobs  \\\n",
       "0                      0.0  ...                                 0.0   \n",
       "1                      0.0  ...                                 0.0   \n",
       "2                      0.0  ...                                 0.0   \n",
       "3                      0.0  ...                                 0.0   \n",
       "4                      0.0  ...                                 0.0   \n",
       "\n",
       "   category_training jobs  job_type_Contract, full-time or part-time  \\\n",
       "0                     0.0                                        0.0   \n",
       "1                     0.0                                        0.0   \n",
       "2                     0.0                                        0.0   \n",
       "3                     0.0                                        0.0   \n",
       "4                     0.0                                        0.0   \n",
       "\n",
       "   job_type_Contract, part-time  job_type_Permanent, full-time  \\\n",
       "0                           0.0                            1.0   \n",
       "1                           0.0                            1.0   \n",
       "2                           0.0                            0.0   \n",
       "3                           0.0                            1.0   \n",
       "4                           0.0                            0.0   \n",
       "\n",
       "   job_type_Permanent, full-time or part-time  job_type_Permanent, part-time  \\\n",
       "0                                         0.0                            0.0   \n",
       "1                                         0.0                            0.0   \n",
       "2                                         1.0                            0.0   \n",
       "3                                         0.0                            0.0   \n",
       "4                                         0.0                            1.0   \n",
       "\n",
       "   job_type_Temporary, full-time  job_type_Temporary, full-time or part-time  \\\n",
       "0                            0.0                                         0.0   \n",
       "1                            0.0                                         0.0   \n",
       "2                            0.0                                         0.0   \n",
       "3                            0.0                                         0.0   \n",
       "4                            0.0                                         0.0   \n",
       "\n",
       "   job_type_Temporary, part-time  \n",
       "0                            0.0  \n",
       "1                            0.0  \n",
       "2                            0.0  \n",
       "3                            0.0  \n",
       "4                            0.0  \n",
       "\n",
       "[5 rows x 45 columns]"
      ]
     },
     "execution_count": 6,
     "metadata": {},
     "output_type": "execute_result"
    }
   ],
   "source": [
    "df_main.head(5)"
   ]
  },
  {
   "cell_type": "code",
   "execution_count": 8,
   "metadata": {},
   "outputs": [],
   "source": [
    "y = df_main['salary']\n",
    "X = df_main.drop(['salary'], axis=1)"
   ]
  },
  {
   "cell_type": "code",
   "execution_count": 32,
   "metadata": {},
   "outputs": [
    {
     "data": {
      "text/plain": [
       "Index(['category_accountancy qualified jobs',\n",
       "       'category_admin secretarial pa jobs', 'category_apprenticeships jobs',\n",
       "       'category_banking jobs', 'category_catering jobs',\n",
       "       'category_charity jobs', 'category_construction property jobs',\n",
       "       'category_customer service jobs', 'category_education jobs',\n",
       "       'category_energy jobs', 'category_engineering jobs',\n",
       "       'category_estate agent jobs', 'category_factory jobs',\n",
       "       'category_finance jobs', 'category_fmcg jobs',\n",
       "       'category_general insurance jobs',\n",
       "       'category_graduate training internships jobs', 'category_health jobs',\n",
       "       'category_hr jobs', 'category_it jobs', 'category_law jobs',\n",
       "       'category_leisure tourism jobs', 'category_logistics jobs',\n",
       "       'category_marketing jobs', 'category_media digital creative jobs',\n",
       "       'category_motoring automotive jobs', 'category_other jobs',\n",
       "       'category_purchasing jobs', 'category_recruitment consultancy jobs',\n",
       "       'category_retail jobs', 'category_sales jobs', 'category_science jobs',\n",
       "       'category_security safety jobs', 'category_social care jobs',\n",
       "       'category_strategy consultancy jobs', 'category_training jobs',\n",
       "       'job_type_Contract, full-time or part-time',\n",
       "       'job_type_Contract, part-time', 'job_type_Permanent, full-time',\n",
       "       'job_type_Permanent, full-time or part-time',\n",
       "       'job_type_Permanent, part-time', 'job_type_Temporary, full-time',\n",
       "       'job_type_Temporary, full-time or part-time',\n",
       "       'job_type_Temporary, part-time'],\n",
       "      dtype='object')"
      ]
     },
     "execution_count": 32,
     "metadata": {},
     "output_type": "execute_result"
    }
   ],
   "source": [
    "X.columns"
   ]
  },
  {
   "cell_type": "markdown",
   "metadata": {},
   "source": [
    "### relevance of the features"
   ]
  },
  {
   "cell_type": "markdown",
   "metadata": {},
   "source": [
    "Now I am going to use some technics to check the relevance of the features."
   ]
  },
  {
   "cell_type": "markdown",
   "metadata": {},
   "source": [
    "### 1."
   ]
  },
  {
   "cell_type": "code",
   "execution_count": 11,
   "metadata": {},
   "outputs": [],
   "source": [
    "X_train, X_test, y_train, y_test = train_test_split(X,y, random_state=1)"
   ]
  },
  {
   "cell_type": "code",
   "execution_count": 13,
   "metadata": {},
   "outputs": [
    {
     "data": {
      "text/plain": [
       "Lasso()"
      ]
     },
     "execution_count": 13,
     "metadata": {},
     "output_type": "execute_result"
    }
   ],
   "source": [
    "model = Lasso()\n",
    "model.fit(X_train,y_train)"
   ]
  },
  {
   "cell_type": "code",
   "execution_count": 14,
   "metadata": {},
   "outputs": [
    {
     "data": {
      "text/plain": [
       "0.1120995622571398"
      ]
     },
     "execution_count": 14,
     "metadata": {},
     "output_type": "execute_result"
    }
   ],
   "source": [
    "model.score(X_test, y_test)"
   ]
  },
  {
   "cell_type": "code",
   "execution_count": 15,
   "metadata": {},
   "outputs": [
    {
     "data": {
      "text/plain": [
       "array([ 22173.39618789,  -4028.31544407, -10540.44017792,  20666.15385553,\n",
       "        -2454.60641835,   3477.23595819,  10795.49905993,  -4956.85932679,\n",
       "         4976.86247033,   8977.71633225,   6552.9143358 ,   3449.93270956,\n",
       "        -1700.48610325,  10811.92843674,   6441.66346478,   6281.82123532,\n",
       "        -1590.57787202,  11898.35336743,   8027.44902366,  16343.12419609,\n",
       "         8828.78006964,   -498.73137746,  -2303.56580307,   7264.45636368,\n",
       "         7523.00506791,   1436.97270507,  -1327.07155955,   8317.25997527,\n",
       "         9359.07243795,   1059.60753636,   4856.57986014,   7101.62431424,\n",
       "        -2180.7310674 ,   3096.38355354,  20069.18209623,   3230.73284462,\n",
       "          181.54325349,  -3570.16962788,   -775.8022877 ,  -7391.39113057,\n",
       "        -9707.10854858,  -2281.9865559 ,  -5185.1657507 ,  -3788.72694406])"
      ]
     },
     "execution_count": 15,
     "metadata": {},
     "output_type": "execute_result"
    }
   ],
   "source": [
    "model.coef_"
   ]
  },
  {
   "cell_type": "code",
   "execution_count": 16,
   "metadata": {},
   "outputs": [],
   "source": [
    "var = np.floor(np.log10(np.abs(model.coef_)))"
   ]
  },
  {
   "cell_type": "code",
   "execution_count": 21,
   "metadata": {},
   "outputs": [
    {
     "data": {
      "text/plain": [
       "array([4., 3., 4., 4., 3., 3., 4., 3., 3., 3., 3., 3., 3., 4., 3., 3., 3.,\n",
       "       4., 3., 4., 3., 2., 3., 3., 3., 3., 3., 3., 3., 3., 3., 3., 3., 3.,\n",
       "       4., 3., 2., 3., 2., 3., 3., 3., 3., 3.])"
      ]
     },
     "execution_count": 21,
     "metadata": {},
     "output_type": "execute_result"
    }
   ],
   "source": [
    "var"
   ]
  },
  {
   "cell_type": "code",
   "execution_count": 22,
   "metadata": {},
   "outputs": [
    {
     "data": {
      "text/plain": [
       "[<matplotlib.lines.Line2D at 0x23b85f40af0>]"
      ]
     },
     "execution_count": 22,
     "metadata": {},
     "output_type": "execute_result"
    },
    {
     "data": {
      "image/png": "[encoded data removed]",
      "text/plain": [
       "<Figure size 864x576 with 1 Axes>"
      ]
     },
     "metadata": {
      "needs_background": "light"
     },
     "output_type": "display_data"
    }
   ],
   "source": [
    "plt.rcParams[\"figure.figsize\"] = [12,8]\n",
    "plt.plot(var)"
   ]
  },
  {
   "cell_type": "markdown",
   "metadata": {},
   "source": [
    "We coul see how there are 3 features that have low scores 22 'category_leisure tourism jobs', 37 'job_type_Contract, full-time or part-time' , and 39 'job_type_Permanent, full-time'"
   ]
  },
  {
   "cell_type": "markdown",
   "metadata": {},
   "source": [
    "### 2."
   ]
  },
  {
   "cell_type": "code",
   "execution_count": 23,
   "metadata": {},
   "outputs": [
    {
     "data": {
      "text/plain": [
       "SelectKBest(k=4,\n",
       "            score_func=<function mutual_info_regression at 0x0000023B82FB4940>)"
      ]
     },
     "execution_count": 23,
     "metadata": {},
     "output_type": "execute_result"
    }
   ],
   "source": [
    "selector = SelectKBest(mutual_info_regression, k=4)\n",
    "selector.fit(X,y)"
   ]
  },
  {
   "cell_type": "code",
   "execution_count": 24,
   "metadata": {},
   "outputs": [
    {
     "data": {
      "text/plain": [
       "array([0.03239448, 0.02416776, 0.01118479, 0.01649156, 0.01835533,\n",
       "       0.01854082, 0.01857174, 0.02743403, 0.02666827, 0.01089892,\n",
       "       0.01345922, 0.00465118, 0.02331062, 0.0180841 , 0.01288176,\n",
       "       0.00070006, 0.02184126, 0.09016512, 0.00300057, 0.02230882,\n",
       "       0.00357762, 0.01143252, 0.02268803, 0.00697836, 0.00841662,\n",
       "       0.01324016, 0.01508899, 0.00695194, 0.01082993, 0.01915396,\n",
       "       0.01787004, 0.00191304, 0.01995519, 0.04265779, 0.00392841,\n",
       "       0.        , 0.00901176, 0.00329221, 0.20168818, 0.00672382,\n",
       "       0.03388081, 0.12432335, 0.00924101, 0.01930078])"
      ]
     },
     "execution_count": 24,
     "metadata": {},
     "output_type": "execute_result"
    }
   ],
   "source": [
    "scores = selector.scores_\n",
    "scores"
   ]
  },
  {
   "cell_type": "code",
   "execution_count": 25,
   "metadata": {},
   "outputs": [
    {
     "data": {
      "text/plain": [
       "[<matplotlib.lines.Line2D at 0x23b86257700>]"
      ]
     },
     "execution_count": 25,
     "metadata": {},
     "output_type": "execute_result"
    },
    {
     "data": {
      "image/png": "[encoded data removed]",
      "text/plain": [
       "<Figure size 864x576 with 1 Axes>"
      ]
     },
     "metadata": {
      "needs_background": "light"
     },
     "output_type": "display_data"
    }
   ],
   "source": [
    "plt.rcParams[\"figure.figsize\"] = [12,8]\n",
    "plt.plot(scores)"
   ]
  },
  {
   "cell_type": "markdown",
   "metadata": {},
   "source": [
    "We coul see how there are 2 features that have low scores 36 'category_training jobs' and 16 'category_general insurance jobs' "
   ]
  },
  {
   "cell_type": "markdown",
   "metadata": {},
   "source": [
    "### 3."
   ]
  },
  {
   "cell_type": "code",
   "execution_count": 27,
   "metadata": {},
   "outputs": [
    {
     "data": {
      "text/plain": [
       "<AxesSubplot:>"
      ]
     },
     "execution_count": 27,
     "metadata": {},
     "output_type": "execute_result"
    },
    {
     "data": {
      "image/png": "[encoded data removed]",
      "text/plain": [
       "<Figure size 432x288 with 2 Axes>"
      ]
     },
     "metadata": {
      "needs_background": "light"
     },
     "output_type": "display_data"
    }
   ],
   "source": [
    "Z3 = pd.concat([X,y], axis=1)\n",
    "sns.heatmap(Z3.corr())"
   ]
  },
  {
   "cell_type": "markdown",
   "metadata": {},
   "source": [
    "Before drop all that useless features, I am going to do a check trainig the same model with diferent features."
   ]
  },
  {
   "cell_type": "code",
   "execution_count": 38,
   "metadata": {},
   "outputs": [],
   "source": [
    "cols4 = ['category_accountancy qualified jobs', 'category_apprenticeships jobs', 'category_banking jobs', 'category_construction property jobs', 'category_finance jobs','category_health jobs', 'category_it jobs', 'category_strategy consultancy jobs']"
   ]
  },
  {
   "cell_type": "code",
   "execution_count": 34,
   "metadata": {},
   "outputs": [],
   "source": [
    "X2_train = X_train.drop(columns=[ 'category_leisure tourism jobs', 'job_type_Contract, full-time or part-time' , 'job_type_Permanent, full-time'])\n",
    "X2_test = X_test.drop(columns=[ 'category_leisure tourism jobs', 'job_type_Contract, full-time or part-time' , 'job_type_Permanent, full-time'])\n",
    "X3_train = X_train.drop(columns=[ 'category_leisure tourism jobs', 'job_type_Contract, full-time or part-time' , 'job_type_Permanent, full-time', 'category_training jobs', 'category_general insurance jobs'])\n",
    "X3_test = X_test.drop(columns=[ 'category_leisure tourism jobs', 'job_type_Contract, full-time or part-time' , 'job_type_Permanent, full-time', 'category_training jobs', 'category_general insurance jobs'])"
   ]
  },
  {
   "cell_type": "code",
   "execution_count": 39,
   "metadata": {},
   "outputs": [],
   "source": [
    "X4_train,X4_test = X_train[cols4], X_test[cols4]"
   ]
  },
  {
   "cell_type": "code",
   "execution_count": 40,
   "metadata": {},
   "outputs": [
    {
     "data": {
      "text/plain": [
       "Lasso()"
      ]
     },
     "execution_count": 40,
     "metadata": {},
     "output_type": "execute_result"
    }
   ],
   "source": [
    "model1 = Lasso()\n",
    "model2 = Lasso()\n",
    "model3 = Lasso()\n",
    "model4 = Lasso()\n",
    "model1.fit(X_train,y_train)\n",
    "model2.fit(X2_train,y_train)\n",
    "model3.fit(X3_train,y_train)\n",
    "model4.fit(X4_train, y_train)"
   ]
  },
  {
   "cell_type": "code",
   "execution_count": 41,
   "metadata": {},
   "outputs": [
    {
     "name": "stdout",
     "output_type": "stream",
     "text": [
      "0.1120995622571398\n",
      "0.1118119370094327\n",
      "0.11016271413647305\n",
      "0.06508164857893506\n"
     ]
    }
   ],
   "source": [
    "print(model1.score(X_test,y_test))\n",
    "print(model2.score(X2_test,y_test))\n",
    "print(model3.score(X3_test,y_test))\n",
    "print(model4.score(X4_test,y_test))"
   ]
  },
  {
   "cell_type": "markdown",
   "metadata": {},
   "source": [
    "As we can see the best score is with all the features fora that reason I am going to work with all the features."
   ]
  },
  {
   "cell_type": "markdown",
   "metadata": {},
   "source": [
    "## Moldes selection"
   ]
  },
  {
   "cell_type": "markdown",
   "metadata": {},
   "source": [
    "### Random Forest Regressor"
   ]
  },
  {
   "cell_type": "code",
   "execution_count": 44,
   "metadata": {},
   "outputs": [
    {
     "data": {
      "text/plain": [
       "{'fit_time': array([16.13555956, 16.97085047, 15.29649067, 16.08419013, 15.19768548]),\n",
       " 'score_time': array([0.21399784, 0.18179202, 0.2030735 , 0.14060855, 0.20496774]),\n",
       " 'test_score': array([0.14617701, 0.08604533, 0.07009036, 0.11190023, 0.08700644]),\n",
       " 'train_score': array([0.150573  , 0.16376181, 0.15725837, 0.16359299, 0.13921112])}"
      ]
     },
     "execution_count": 44,
     "metadata": {},
     "output_type": "execute_result"
    }
   ],
   "source": [
    "forest = RandomForestRegressor(200)\n",
    "results = cross_validate(forest, X,y, cv=5, scoring='r2', return_train_score= True)\n",
    "results"
   ]
  },
  {
   "cell_type": "code",
   "execution_count": 45,
   "metadata": {},
   "outputs": [
    {
     "name": "stdout",
     "output_type": "stream",
     "text": [
      "0.15487945832114378\n",
      "0.10024387343247096\n"
     ]
    }
   ],
   "source": [
    "test_scores = results['test_score']\n",
    "train_scores = results['train_score']\n",
    "print(np.mean(train_scores))\n",
    "print(np.mean(test_scores))"
   ]
  },
  {
   "cell_type": "markdown",
   "metadata": {},
   "source": [
    "### Gradient Boosted Trees"
   ]
  },
  {
   "cell_type": "code",
   "execution_count": 47,
   "metadata": {},
   "outputs": [
    {
     "data": {
      "text/plain": [
       "{'fit_time': array([2.54637265, 2.51254845, 2.33706427, 2.39527202, 2.3976655 ]),\n",
       " 'score_time': array([0.01303887, 0.02215862, 0.01565599, 0.01562214, 0.        ]),\n",
       " 'test_score': array([0.114456  , 0.07767831, 0.08122095, 0.09265935, 0.06720796]),\n",
       " 'train_score': array([0.12995847, 0.13984477, 0.13419156, 0.1373662 , 0.11374101])}"
      ]
     },
     "execution_count": 47,
     "metadata": {},
     "output_type": "execute_result"
    }
   ],
   "source": [
    "ensemble = GradientBoostingRegressor()\n",
    "results = cross_validate(ensemble, X,y, cv=5, scoring='r2', return_train_score= True)\n",
    "results"
   ]
  },
  {
   "cell_type": "code",
   "execution_count": 48,
   "metadata": {},
   "outputs": [
    {
     "name": "stdout",
     "output_type": "stream",
     "text": [
      "0.13102040344991742\n",
      "0.08664451459043887\n"
     ]
    }
   ],
   "source": [
    "test_scores = results['test_score']\n",
    "train_scores = results['train_score']\n",
    "print(np.mean(train_scores))\n",
    "print(np.mean(test_scores))"
   ]
  },
  {
   "cell_type": "markdown",
   "metadata": {},
   "source": [
    "### Voting Regressor"
   ]
  },
  {
   "cell_type": "code",
   "execution_count": 51,
   "metadata": {},
   "outputs": [],
   "source": [
    "reg1 = LinearRegression()\n",
    "reg2 = Lasso()\n",
    "reg3 = ElasticNetCV()"
   ]
  },
  {
   "cell_type": "code",
   "execution_count": 52,
   "metadata": {},
   "outputs": [
    {
     "data": {
      "text/plain": [
       "{'fit_time': array([1.809093  , 0.73438716, 0.70277524, 0.70311666, 0.90138745]),\n",
       " 'score_time': array([0.        , 0.01561975, 0.        , 0.01562524, 0.0254674 ]),\n",
       " 'test_score': array([0.11895648, 0.07292203, 0.08853555, 0.07799149, 0.07400292]),\n",
       " 'train_score': array([0.08517314, 0.09783703, 0.0918174 , 0.09395513, 0.09732983])}"
      ]
     },
     "execution_count": 52,
     "metadata": {},
     "output_type": "execute_result"
    }
   ],
   "source": [
    "ensemble = VotingRegressor(estimators=[('gb',reg1),('rf', reg2),('lr', reg3)])\n",
    "results = cross_validate(ensemble, X,y, cv=5, scoring='r2', return_train_score= True)\n",
    "results"
   ]
  },
  {
   "cell_type": "code",
   "execution_count": 53,
   "metadata": {},
   "outputs": [
    {
     "name": "stdout",
     "output_type": "stream",
     "text": [
      "0.09322250563986674\n",
      "0.08648169271174957\n"
     ]
    }
   ],
   "source": [
    "test_scores = results['test_score']\n",
    "train_scores = results['train_score']\n",
    "print(np.mean(train_scores))\n",
    "print(np.mean(test_scores))"
   ]
  },
  {
   "cell_type": "markdown",
   "metadata": {},
   "source": [
    "As we can see all the models have low scores for that reason in the API I am going to use grid search to have a better score and do better predictions."
   ]
  }
 ],
 "metadata": {
  "kernelspec": {
   "display_name": "Python 3",
   "language": "python",
   "name": "python3"
  },
  "language_info": {
   "codemirror_mode": {
    "name": "ipython",
    "version": 3
   },
   "file_extension": ".py",
   "mimetype": "text/x-python",
   "name": "python",
   "nbconvert_exporter": "python",
   "pygments_lexer": "ipython3",
   "version": "3.8.5"
  }
 },
 "nbformat": 4,
 "nbformat_minor": 4
}
